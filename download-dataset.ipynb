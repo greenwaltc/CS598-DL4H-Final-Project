{
 "cells": [
  {
   "cell_type": "code",
   "execution_count": null,
   "metadata": {
    "collapsed": true
   },
   "outputs": [],
   "source": [
    "# Replace these values with your project and bucket as needed\n",
    "project_id = \"REPLACE WITH YOUR PROJECT ID\"\n",
    "mimic3_bucket = \"mimiciii-1.4.physionet.org\"\n",
    "\n",
    "! gcloud auth login\n",
    "! gcloud auth application-default login\n",
    "! gcloud config set project {project_id}\n",
    "! pip install --upgrade google-api-python-client google-cloud-storage"
   ]
  },
  {
   "cell_type": "code",
   "execution_count": null,
   "outputs": [],
   "source": [
    "from google.cloud import storage\n",
    "import gzip\n",
    "import shutil\n",
    "import os\n",
    "\n",
    "storage_client = storage.Client(project=project_id)\n",
    "bucket = storage_client.bucket(mimic3_bucket)\n",
    "data_folder = \"data\"\n",
    "for blob in bucket.list_blobs():\n",
    "\n",
    "    # Chart events is too large and unnecessary for this project\n",
    "    if \"CHARTEVENTS\" in blob.name:\n",
    "        continue\n",
    "\n",
    "    gz_path = f\"{data_folder}/{blob.name}\"\n",
    "    blob.download_to_filename(gz_path)\n",
    "\n",
    "    with gzip.open(gz_path, 'rb') as f_in:\n",
    "        with open(gz_path.replace(\".gz\", \"\"), 'wb') as f_out:\n",
    "            shutil.copyfileobj(f_in, f_out)\n",
    "\n",
    "    os.remove(gz_path)"
   ],
   "metadata": {
    "collapsed": false
   }
  }
 ],
 "metadata": {
  "kernelspec": {
   "display_name": "Python 3",
   "language": "python",
   "name": "python3"
  },
  "language_info": {
   "codemirror_mode": {
    "name": "ipython",
    "version": 2
   },
   "file_extension": ".py",
   "mimetype": "text/x-python",
   "name": "python",
   "nbconvert_exporter": "python",
   "pygments_lexer": "ipython2",
   "version": "2.7.6"
  }
 },
 "nbformat": 4,
 "nbformat_minor": 0
}
