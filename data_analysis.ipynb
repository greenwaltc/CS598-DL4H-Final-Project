{
 "cells": [
  {
   "cell_type": "code",
   "execution_count": 11,
   "metadata": {
    "collapsed": true,
    "ExecuteTime": {
     "start_time": "2023-05-04T12:44:33.143128Z",
     "end_time": "2023-05-04T12:44:33.162123Z"
    }
   },
   "outputs": [],
   "source": [
    "import pandas as pd\n",
    "import matplotlib.pyplot as plt\n",
    "import seaborn as sns\n",
    "from IPython.display import display"
   ]
  },
  {
   "cell_type": "code",
   "execution_count": 15,
   "outputs": [
    {
     "data": {
      "text/plain": "    model_name feature_set  seq_len  trial    pr_auc   roc_auc        f1   \n0      bitenet        dxtx        6      0  0.407685  0.641497  0.230769  \\\n1      bitenet        dxtx        6      1  0.396974  0.621562  0.227027   \n2      bitenet        dxtx        6      2  0.431699  0.661099  0.312977   \n3      bitenet        dxtx        6      3  0.404521  0.657265  0.325758   \n4      bitenet        dxtx        6      4  0.421846  0.651217  0.313725   \n..         ...         ...      ...    ...       ...       ...       ...   \n295      deepr          dx       16      0  0.423878  0.589815  0.268657   \n296      deepr          dx       16      1  0.432118  0.626731  0.296610   \n297      deepr          dx       16      2  0.430878  0.619307  0.346863   \n298      deepr          dx       16      3  0.430688  0.611662  0.348485   \n299      deepr          dx       16      4  0.420868  0.607672  0.326389   \n\n            5        10        15        20        25        30  \n0    0.635533  0.620656  0.618549  0.647148  0.637960  0.636825  \n1    0.619467  0.697481  0.717375  0.726433  0.731278  0.735699  \n2    0.777556  0.816212  0.830382  0.836679  0.838014  0.839861  \n3    0.745222  0.761145  0.763678  0.762760  0.759796  0.754292  \n4    0.754533  0.792168  0.785829  0.784667  0.777397  0.769356  \n..        ...       ...       ...       ...       ...       ...  \n295  0.000000  0.000000  0.000000  0.000000  0.000000  0.000000  \n296  0.000000  0.000000  0.000000  0.000000  0.000000  0.000000  \n297  0.000000  0.000000  0.000000  0.000000  0.000000  0.000000  \n298  0.000000  0.000000  0.000000  0.000000  0.000000  0.000000  \n299  0.000000  0.000000  0.000000  0.000000  0.000000  0.000000  \n\n[300 rows x 13 columns]",
      "text/html": "<div>\n<style scoped>\n    .dataframe tbody tr th:only-of-type {\n        vertical-align: middle;\n    }\n\n    .dataframe tbody tr th {\n        vertical-align: top;\n    }\n\n    .dataframe thead th {\n        text-align: right;\n    }\n</style>\n<table border=\"1\" class=\"dataframe\">\n  <thead>\n    <tr style=\"text-align: right;\">\n      <th></th>\n      <th>model_name</th>\n      <th>feature_set</th>\n      <th>seq_len</th>\n      <th>trial</th>\n      <th>pr_auc</th>\n      <th>roc_auc</th>\n      <th>f1</th>\n      <th>5</th>\n      <th>10</th>\n      <th>15</th>\n      <th>20</th>\n      <th>25</th>\n      <th>30</th>\n    </tr>\n  </thead>\n  <tbody>\n    <tr>\n      <th>0</th>\n      <td>bitenet</td>\n      <td>dxtx</td>\n      <td>6</td>\n      <td>0</td>\n      <td>0.407685</td>\n      <td>0.641497</td>\n      <td>0.230769</td>\n      <td>0.635533</td>\n      <td>0.620656</td>\n      <td>0.618549</td>\n      <td>0.647148</td>\n      <td>0.637960</td>\n      <td>0.636825</td>\n    </tr>\n    <tr>\n      <th>1</th>\n      <td>bitenet</td>\n      <td>dxtx</td>\n      <td>6</td>\n      <td>1</td>\n      <td>0.396974</td>\n      <td>0.621562</td>\n      <td>0.227027</td>\n      <td>0.619467</td>\n      <td>0.697481</td>\n      <td>0.717375</td>\n      <td>0.726433</td>\n      <td>0.731278</td>\n      <td>0.735699</td>\n    </tr>\n    <tr>\n      <th>2</th>\n      <td>bitenet</td>\n      <td>dxtx</td>\n      <td>6</td>\n      <td>2</td>\n      <td>0.431699</td>\n      <td>0.661099</td>\n      <td>0.312977</td>\n      <td>0.777556</td>\n      <td>0.816212</td>\n      <td>0.830382</td>\n      <td>0.836679</td>\n      <td>0.838014</td>\n      <td>0.839861</td>\n    </tr>\n    <tr>\n      <th>3</th>\n      <td>bitenet</td>\n      <td>dxtx</td>\n      <td>6</td>\n      <td>3</td>\n      <td>0.404521</td>\n      <td>0.657265</td>\n      <td>0.325758</td>\n      <td>0.745222</td>\n      <td>0.761145</td>\n      <td>0.763678</td>\n      <td>0.762760</td>\n      <td>0.759796</td>\n      <td>0.754292</td>\n    </tr>\n    <tr>\n      <th>4</th>\n      <td>bitenet</td>\n      <td>dxtx</td>\n      <td>6</td>\n      <td>4</td>\n      <td>0.421846</td>\n      <td>0.651217</td>\n      <td>0.313725</td>\n      <td>0.754533</td>\n      <td>0.792168</td>\n      <td>0.785829</td>\n      <td>0.784667</td>\n      <td>0.777397</td>\n      <td>0.769356</td>\n    </tr>\n    <tr>\n      <th>...</th>\n      <td>...</td>\n      <td>...</td>\n      <td>...</td>\n      <td>...</td>\n      <td>...</td>\n      <td>...</td>\n      <td>...</td>\n      <td>...</td>\n      <td>...</td>\n      <td>...</td>\n      <td>...</td>\n      <td>...</td>\n      <td>...</td>\n    </tr>\n    <tr>\n      <th>295</th>\n      <td>deepr</td>\n      <td>dx</td>\n      <td>16</td>\n      <td>0</td>\n      <td>0.423878</td>\n      <td>0.589815</td>\n      <td>0.268657</td>\n      <td>0.000000</td>\n      <td>0.000000</td>\n      <td>0.000000</td>\n      <td>0.000000</td>\n      <td>0.000000</td>\n      <td>0.000000</td>\n    </tr>\n    <tr>\n      <th>296</th>\n      <td>deepr</td>\n      <td>dx</td>\n      <td>16</td>\n      <td>1</td>\n      <td>0.432118</td>\n      <td>0.626731</td>\n      <td>0.296610</td>\n      <td>0.000000</td>\n      <td>0.000000</td>\n      <td>0.000000</td>\n      <td>0.000000</td>\n      <td>0.000000</td>\n      <td>0.000000</td>\n    </tr>\n    <tr>\n      <th>297</th>\n      <td>deepr</td>\n      <td>dx</td>\n      <td>16</td>\n      <td>2</td>\n      <td>0.430878</td>\n      <td>0.619307</td>\n      <td>0.346863</td>\n      <td>0.000000</td>\n      <td>0.000000</td>\n      <td>0.000000</td>\n      <td>0.000000</td>\n      <td>0.000000</td>\n      <td>0.000000</td>\n    </tr>\n    <tr>\n      <th>298</th>\n      <td>deepr</td>\n      <td>dx</td>\n      <td>16</td>\n      <td>3</td>\n      <td>0.430688</td>\n      <td>0.611662</td>\n      <td>0.348485</td>\n      <td>0.000000</td>\n      <td>0.000000</td>\n      <td>0.000000</td>\n      <td>0.000000</td>\n      <td>0.000000</td>\n      <td>0.000000</td>\n    </tr>\n    <tr>\n      <th>299</th>\n      <td>deepr</td>\n      <td>dx</td>\n      <td>16</td>\n      <td>4</td>\n      <td>0.420868</td>\n      <td>0.607672</td>\n      <td>0.326389</td>\n      <td>0.000000</td>\n      <td>0.000000</td>\n      <td>0.000000</td>\n      <td>0.000000</td>\n      <td>0.000000</td>\n      <td>0.000000</td>\n    </tr>\n  </tbody>\n</table>\n<p>300 rows × 13 columns</p>\n</div>"
     },
     "metadata": {},
     "output_type": "display_data"
    }
   ],
   "source": [
    "data_file = \"results1.csv\"\n",
    "df = pd.read_csv(data_file)\n",
    "df.drop(columns=[\"Unnamed: 0\"], inplace=True)\n",
    "display(df)"
   ],
   "metadata": {
    "collapsed": false,
    "ExecuteTime": {
     "start_time": "2023-05-04T12:58:42.669127Z",
     "end_time": "2023-05-04T12:58:42.757122Z"
    }
   }
  },
  {
   "cell_type": "code",
   "execution_count": 16,
   "outputs": [
    {
     "data": {
      "text/plain": "                        trial    pr_auc         5        10        15   \nmodel_name feature_set                                                  \nbitenet    dx             2.0  0.366058  0.591354  0.615945  0.614795  \\\n           dxtx           2.0  0.378651  0.589903  0.640196  0.647786   \nbrnn       dx             2.0  0.413055  0.486473  0.569732  0.591117   \n           dxtx           2.0  0.400604  0.518245  0.573936  0.572953   \ndeepr      dx             2.0  0.393379  0.539957  0.620939  0.624764   \n           dxtx           2.0  0.393611  0.445590  0.519320  0.543730   \nretain     dx             2.0  0.381786  0.463841  0.516507  0.524004   \n           dxtx           2.0  0.379364  0.532459  0.604532  0.617559   \nrnn        dx             2.0  0.400363  0.555148  0.608877  0.611789   \n           dxtx           2.0  0.402626  0.641353  0.725898  0.731086   \n\n                              20        25        30  \nmodel_name feature_set                                \nbitenet    dx           0.614725  0.614032  0.611130  \n           dxtx         0.652734  0.654815  0.655697  \nbrnn       dx           0.600187  0.602426  0.602341  \n           dxtx         0.567084  0.562965  0.558496  \ndeepr      dx           0.620830  0.615258  0.608147  \n           dxtx         0.552685  0.557207  0.559768  \nretain     dx           0.523314  0.522606  0.520626  \n           dxtx         0.619739  0.618699  0.617702  \nrnn        dx           0.610832  0.610752  0.609444  \n           dxtx         0.726505  0.722426  0.716705  ",
      "text/html": "<div>\n<style scoped>\n    .dataframe tbody tr th:only-of-type {\n        vertical-align: middle;\n    }\n\n    .dataframe tbody tr th {\n        vertical-align: top;\n    }\n\n    .dataframe thead th {\n        text-align: right;\n    }\n</style>\n<table border=\"1\" class=\"dataframe\">\n  <thead>\n    <tr style=\"text-align: right;\">\n      <th></th>\n      <th></th>\n      <th>trial</th>\n      <th>pr_auc</th>\n      <th>5</th>\n      <th>10</th>\n      <th>15</th>\n      <th>20</th>\n      <th>25</th>\n      <th>30</th>\n    </tr>\n    <tr>\n      <th>model_name</th>\n      <th>feature_set</th>\n      <th></th>\n      <th></th>\n      <th></th>\n      <th></th>\n      <th></th>\n      <th></th>\n      <th></th>\n      <th></th>\n    </tr>\n  </thead>\n  <tbody>\n    <tr>\n      <th rowspan=\"2\" valign=\"top\">bitenet</th>\n      <th>dx</th>\n      <td>2.0</td>\n      <td>0.366058</td>\n      <td>0.591354</td>\n      <td>0.615945</td>\n      <td>0.614795</td>\n      <td>0.614725</td>\n      <td>0.614032</td>\n      <td>0.611130</td>\n    </tr>\n    <tr>\n      <th>dxtx</th>\n      <td>2.0</td>\n      <td>0.378651</td>\n      <td>0.589903</td>\n      <td>0.640196</td>\n      <td>0.647786</td>\n      <td>0.652734</td>\n      <td>0.654815</td>\n      <td>0.655697</td>\n    </tr>\n    <tr>\n      <th rowspan=\"2\" valign=\"top\">brnn</th>\n      <th>dx</th>\n      <td>2.0</td>\n      <td>0.413055</td>\n      <td>0.486473</td>\n      <td>0.569732</td>\n      <td>0.591117</td>\n      <td>0.600187</td>\n      <td>0.602426</td>\n      <td>0.602341</td>\n    </tr>\n    <tr>\n      <th>dxtx</th>\n      <td>2.0</td>\n      <td>0.400604</td>\n      <td>0.518245</td>\n      <td>0.573936</td>\n      <td>0.572953</td>\n      <td>0.567084</td>\n      <td>0.562965</td>\n      <td>0.558496</td>\n    </tr>\n    <tr>\n      <th rowspan=\"2\" valign=\"top\">deepr</th>\n      <th>dx</th>\n      <td>2.0</td>\n      <td>0.393379</td>\n      <td>0.539957</td>\n      <td>0.620939</td>\n      <td>0.624764</td>\n      <td>0.620830</td>\n      <td>0.615258</td>\n      <td>0.608147</td>\n    </tr>\n    <tr>\n      <th>dxtx</th>\n      <td>2.0</td>\n      <td>0.393611</td>\n      <td>0.445590</td>\n      <td>0.519320</td>\n      <td>0.543730</td>\n      <td>0.552685</td>\n      <td>0.557207</td>\n      <td>0.559768</td>\n    </tr>\n    <tr>\n      <th rowspan=\"2\" valign=\"top\">retain</th>\n      <th>dx</th>\n      <td>2.0</td>\n      <td>0.381786</td>\n      <td>0.463841</td>\n      <td>0.516507</td>\n      <td>0.524004</td>\n      <td>0.523314</td>\n      <td>0.522606</td>\n      <td>0.520626</td>\n    </tr>\n    <tr>\n      <th>dxtx</th>\n      <td>2.0</td>\n      <td>0.379364</td>\n      <td>0.532459</td>\n      <td>0.604532</td>\n      <td>0.617559</td>\n      <td>0.619739</td>\n      <td>0.618699</td>\n      <td>0.617702</td>\n    </tr>\n    <tr>\n      <th rowspan=\"2\" valign=\"top\">rnn</th>\n      <th>dx</th>\n      <td>2.0</td>\n      <td>0.400363</td>\n      <td>0.555148</td>\n      <td>0.608877</td>\n      <td>0.611789</td>\n      <td>0.610832</td>\n      <td>0.610752</td>\n      <td>0.609444</td>\n    </tr>\n    <tr>\n      <th>dxtx</th>\n      <td>2.0</td>\n      <td>0.402626</td>\n      <td>0.641353</td>\n      <td>0.725898</td>\n      <td>0.731086</td>\n      <td>0.726505</td>\n      <td>0.722426</td>\n      <td>0.716705</td>\n    </tr>\n  </tbody>\n</table>\n</div>"
     },
     "metadata": {},
     "output_type": "display_data"
    }
   ],
   "source": [
    "display(df.groupby(by=[\"model_name\", \"feature_set\"]).mean().drop(columns=[\"seq_len\", \"roc_auc\", \"f1\"]))"
   ],
   "metadata": {
    "collapsed": false,
    "ExecuteTime": {
     "start_time": "2023-05-04T12:58:43.808125Z",
     "end_time": "2023-05-04T12:58:43.825124Z"
    }
   }
  },
  {
   "cell_type": "code",
   "execution_count": null,
   "outputs": [],
   "source": [],
   "metadata": {
    "collapsed": false
   }
  }
 ],
 "metadata": {
  "kernelspec": {
   "display_name": "Python 3",
   "language": "python",
   "name": "python3"
  },
  "language_info": {
   "codemirror_mode": {
    "name": "ipython",
    "version": 2
   },
   "file_extension": ".py",
   "mimetype": "text/x-python",
   "name": "python",
   "nbconvert_exporter": "python",
   "pygments_lexer": "ipython2",
   "version": "2.7.6"
  }
 },
 "nbformat": 4,
 "nbformat_minor": 0
}
